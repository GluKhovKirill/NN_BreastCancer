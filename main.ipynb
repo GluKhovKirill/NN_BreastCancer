{
 "cells": [
  {
   "cell_type": "code",
   "execution_count": 11,
   "id": "f3a18a3a-370f-49b9-88ed-71d840b5bfee",
   "metadata": {},
   "outputs": [],
   "source": [
    "%matplotlib inline\n",
    "import numpy as np\n",
    "import pandas as pd\n",
    "from sklearn.preprocessing import LabelEncoder\n",
    "import matplotlib\n",
    "import matplotlib.pyplot as plt\n",
    "import seaborn as sns\n",
    "from sklearn.preprocessing import StandardScaler\n",
    "from sklearn.ensemble import RandomForestClassifier\n",
    "from sklearn.model_selection import cross_validate\n",
    "from sklearn.model_selection import GridSearchCV\n",
    "from sklearn.metrics import mean_absolute_error\n",
    "import pickle"
   ]
  },
  {
   "cell_type": "markdown",
   "id": "b343a1d4-ea12-43e2-80ec-b535dbdd6c0b",
   "metadata": {},
   "source": [
    "Загрузим DataFrame, уберем ненужные столбцы (ID и пустой)"
   ]
  },
  {
   "cell_type": "code",
   "execution_count": 2,
   "id": "b3bfe4b0-19a4-409b-95cc-62b1f9eeed81",
   "metadata": {},
   "outputs": [
    {
     "data": {
      "text/html": [
       "<div>\n",
       "<style scoped>\n",
       "    .dataframe tbody tr th:only-of-type {\n",
       "        vertical-align: middle;\n",
       "    }\n",
       "\n",
       "    .dataframe tbody tr th {\n",
       "        vertical-align: top;\n",
       "    }\n",
       "\n",
       "    .dataframe thead th {\n",
       "        text-align: right;\n",
       "    }\n",
       "</style>\n",
       "<table border=\"1\" class=\"dataframe\">\n",
       "  <thead>\n",
       "    <tr style=\"text-align: right;\">\n",
       "      <th></th>\n",
       "      <th>diagnosis</th>\n",
       "      <th>radius_mean</th>\n",
       "      <th>texture_mean</th>\n",
       "      <th>perimeter_mean</th>\n",
       "      <th>area_mean</th>\n",
       "      <th>smoothness_mean</th>\n",
       "      <th>compactness_mean</th>\n",
       "      <th>concavity_mean</th>\n",
       "      <th>concave points_mean</th>\n",
       "      <th>symmetry_mean</th>\n",
       "      <th>...</th>\n",
       "      <th>radius_worst</th>\n",
       "      <th>texture_worst</th>\n",
       "      <th>perimeter_worst</th>\n",
       "      <th>area_worst</th>\n",
       "      <th>smoothness_worst</th>\n",
       "      <th>compactness_worst</th>\n",
       "      <th>concavity_worst</th>\n",
       "      <th>concave points_worst</th>\n",
       "      <th>symmetry_worst</th>\n",
       "      <th>fractal_dimension_worst</th>\n",
       "    </tr>\n",
       "  </thead>\n",
       "  <tbody>\n",
       "    <tr>\n",
       "      <th>0</th>\n",
       "      <td>M</td>\n",
       "      <td>17.99</td>\n",
       "      <td>10.38</td>\n",
       "      <td>122.80</td>\n",
       "      <td>1001.0</td>\n",
       "      <td>0.11840</td>\n",
       "      <td>0.27760</td>\n",
       "      <td>0.3001</td>\n",
       "      <td>0.14710</td>\n",
       "      <td>0.2419</td>\n",
       "      <td>...</td>\n",
       "      <td>25.38</td>\n",
       "      <td>17.33</td>\n",
       "      <td>184.60</td>\n",
       "      <td>2019.0</td>\n",
       "      <td>0.1622</td>\n",
       "      <td>0.6656</td>\n",
       "      <td>0.7119</td>\n",
       "      <td>0.2654</td>\n",
       "      <td>0.4601</td>\n",
       "      <td>0.11890</td>\n",
       "    </tr>\n",
       "    <tr>\n",
       "      <th>1</th>\n",
       "      <td>M</td>\n",
       "      <td>20.57</td>\n",
       "      <td>17.77</td>\n",
       "      <td>132.90</td>\n",
       "      <td>1326.0</td>\n",
       "      <td>0.08474</td>\n",
       "      <td>0.07864</td>\n",
       "      <td>0.0869</td>\n",
       "      <td>0.07017</td>\n",
       "      <td>0.1812</td>\n",
       "      <td>...</td>\n",
       "      <td>24.99</td>\n",
       "      <td>23.41</td>\n",
       "      <td>158.80</td>\n",
       "      <td>1956.0</td>\n",
       "      <td>0.1238</td>\n",
       "      <td>0.1866</td>\n",
       "      <td>0.2416</td>\n",
       "      <td>0.1860</td>\n",
       "      <td>0.2750</td>\n",
       "      <td>0.08902</td>\n",
       "    </tr>\n",
       "    <tr>\n",
       "      <th>2</th>\n",
       "      <td>M</td>\n",
       "      <td>19.69</td>\n",
       "      <td>21.25</td>\n",
       "      <td>130.00</td>\n",
       "      <td>1203.0</td>\n",
       "      <td>0.10960</td>\n",
       "      <td>0.15990</td>\n",
       "      <td>0.1974</td>\n",
       "      <td>0.12790</td>\n",
       "      <td>0.2069</td>\n",
       "      <td>...</td>\n",
       "      <td>23.57</td>\n",
       "      <td>25.53</td>\n",
       "      <td>152.50</td>\n",
       "      <td>1709.0</td>\n",
       "      <td>0.1444</td>\n",
       "      <td>0.4245</td>\n",
       "      <td>0.4504</td>\n",
       "      <td>0.2430</td>\n",
       "      <td>0.3613</td>\n",
       "      <td>0.08758</td>\n",
       "    </tr>\n",
       "    <tr>\n",
       "      <th>3</th>\n",
       "      <td>M</td>\n",
       "      <td>11.42</td>\n",
       "      <td>20.38</td>\n",
       "      <td>77.58</td>\n",
       "      <td>386.1</td>\n",
       "      <td>0.14250</td>\n",
       "      <td>0.28390</td>\n",
       "      <td>0.2414</td>\n",
       "      <td>0.10520</td>\n",
       "      <td>0.2597</td>\n",
       "      <td>...</td>\n",
       "      <td>14.91</td>\n",
       "      <td>26.50</td>\n",
       "      <td>98.87</td>\n",
       "      <td>567.7</td>\n",
       "      <td>0.2098</td>\n",
       "      <td>0.8663</td>\n",
       "      <td>0.6869</td>\n",
       "      <td>0.2575</td>\n",
       "      <td>0.6638</td>\n",
       "      <td>0.17300</td>\n",
       "    </tr>\n",
       "    <tr>\n",
       "      <th>4</th>\n",
       "      <td>M</td>\n",
       "      <td>20.29</td>\n",
       "      <td>14.34</td>\n",
       "      <td>135.10</td>\n",
       "      <td>1297.0</td>\n",
       "      <td>0.10030</td>\n",
       "      <td>0.13280</td>\n",
       "      <td>0.1980</td>\n",
       "      <td>0.10430</td>\n",
       "      <td>0.1809</td>\n",
       "      <td>...</td>\n",
       "      <td>22.54</td>\n",
       "      <td>16.67</td>\n",
       "      <td>152.20</td>\n",
       "      <td>1575.0</td>\n",
       "      <td>0.1374</td>\n",
       "      <td>0.2050</td>\n",
       "      <td>0.4000</td>\n",
       "      <td>0.1625</td>\n",
       "      <td>0.2364</td>\n",
       "      <td>0.07678</td>\n",
       "    </tr>\n",
       "  </tbody>\n",
       "</table>\n",
       "<p>5 rows × 31 columns</p>\n",
       "</div>"
      ],
      "text/plain": [
       "  diagnosis  radius_mean  texture_mean  perimeter_mean  area_mean  \\\n",
       "0         M        17.99         10.38          122.80     1001.0   \n",
       "1         M        20.57         17.77          132.90     1326.0   \n",
       "2         M        19.69         21.25          130.00     1203.0   \n",
       "3         M        11.42         20.38           77.58      386.1   \n",
       "4         M        20.29         14.34          135.10     1297.0   \n",
       "\n",
       "   smoothness_mean  compactness_mean  concavity_mean  concave points_mean  \\\n",
       "0          0.11840           0.27760          0.3001              0.14710   \n",
       "1          0.08474           0.07864          0.0869              0.07017   \n",
       "2          0.10960           0.15990          0.1974              0.12790   \n",
       "3          0.14250           0.28390          0.2414              0.10520   \n",
       "4          0.10030           0.13280          0.1980              0.10430   \n",
       "\n",
       "   symmetry_mean  ...  radius_worst  texture_worst  perimeter_worst  \\\n",
       "0         0.2419  ...         25.38          17.33           184.60   \n",
       "1         0.1812  ...         24.99          23.41           158.80   \n",
       "2         0.2069  ...         23.57          25.53           152.50   \n",
       "3         0.2597  ...         14.91          26.50            98.87   \n",
       "4         0.1809  ...         22.54          16.67           152.20   \n",
       "\n",
       "   area_worst  smoothness_worst  compactness_worst  concavity_worst  \\\n",
       "0      2019.0            0.1622             0.6656           0.7119   \n",
       "1      1956.0            0.1238             0.1866           0.2416   \n",
       "2      1709.0            0.1444             0.4245           0.4504   \n",
       "3       567.7            0.2098             0.8663           0.6869   \n",
       "4      1575.0            0.1374             0.2050           0.4000   \n",
       "\n",
       "   concave points_worst  symmetry_worst  fractal_dimension_worst  \n",
       "0                0.2654          0.4601                  0.11890  \n",
       "1                0.1860          0.2750                  0.08902  \n",
       "2                0.2430          0.3613                  0.08758  \n",
       "3                0.2575          0.6638                  0.17300  \n",
       "4                0.1625          0.2364                  0.07678  \n",
       "\n",
       "[5 rows x 31 columns]"
      ]
     },
     "execution_count": 2,
     "metadata": {},
     "output_type": "execute_result"
    }
   ],
   "source": [
    "df = pd.read_csv('data.csv')\n",
    "df = df.drop('Unnamed: 32', axis=1).drop(\"id\", axis=1)\n",
    "\n",
    "df.head()\n",
    "# malignant - \"bad\"\n",
    "# benign - \"good\""
   ]
  },
  {
   "cell_type": "markdown",
   "id": "51535eac-43ac-434d-8bf1-eeea0319dde4",
   "metadata": {},
   "source": [
    "Убедимся, что в датасете нет ячеек с NaN"
   ]
  },
  {
   "cell_type": "code",
   "execution_count": 3,
   "id": "82399358-0582-4b13-94be-0fac98a38923",
   "metadata": {},
   "outputs": [
    {
     "data": {
      "text/plain": [
       "False"
      ]
     },
     "execution_count": 3,
     "metadata": {},
     "output_type": "execute_result"
    }
   ],
   "source": [
    "df.isnull().values.any()"
   ]
  },
  {
   "cell_type": "markdown",
   "id": "202b3487-53e1-4414-a315-c087be643e5c",
   "metadata": {},
   "source": [
    "Посмотрим типы данных, наименования столбцов"
   ]
  },
  {
   "cell_type": "code",
   "execution_count": 4,
   "id": "fad46771-8781-42dd-b261-c5094eaacd92",
   "metadata": {},
   "outputs": [
    {
     "name": "stdout",
     "output_type": "stream",
     "text": [
      "<class 'pandas.core.frame.DataFrame'>\n",
      "RangeIndex: 569 entries, 0 to 568\n",
      "Data columns (total 31 columns):\n",
      " #   Column                   Non-Null Count  Dtype  \n",
      "---  ------                   --------------  -----  \n",
      " 0   diagnosis                569 non-null    object \n",
      " 1   radius_mean              569 non-null    float64\n",
      " 2   texture_mean             569 non-null    float64\n",
      " 3   perimeter_mean           569 non-null    float64\n",
      " 4   area_mean                569 non-null    float64\n",
      " 5   smoothness_mean          569 non-null    float64\n",
      " 6   compactness_mean         569 non-null    float64\n",
      " 7   concavity_mean           569 non-null    float64\n",
      " 8   concave points_mean      569 non-null    float64\n",
      " 9   symmetry_mean            569 non-null    float64\n",
      " 10  fractal_dimension_mean   569 non-null    float64\n",
      " 11  radius_se                569 non-null    float64\n",
      " 12  texture_se               569 non-null    float64\n",
      " 13  perimeter_se             569 non-null    float64\n",
      " 14  area_se                  569 non-null    float64\n",
      " 15  smoothness_se            569 non-null    float64\n",
      " 16  compactness_se           569 non-null    float64\n",
      " 17  concavity_se             569 non-null    float64\n",
      " 18  concave points_se        569 non-null    float64\n",
      " 19  symmetry_se              569 non-null    float64\n",
      " 20  fractal_dimension_se     569 non-null    float64\n",
      " 21  radius_worst             569 non-null    float64\n",
      " 22  texture_worst            569 non-null    float64\n",
      " 23  perimeter_worst          569 non-null    float64\n",
      " 24  area_worst               569 non-null    float64\n",
      " 25  smoothness_worst         569 non-null    float64\n",
      " 26  compactness_worst        569 non-null    float64\n",
      " 27  concavity_worst          569 non-null    float64\n",
      " 28  concave points_worst     569 non-null    float64\n",
      " 29  symmetry_worst           569 non-null    float64\n",
      " 30  fractal_dimension_worst  569 non-null    float64\n",
      "dtypes: float64(30), object(1)\n",
      "memory usage: 137.9+ KB\n"
     ]
    }
   ],
   "source": [
    "df.info()"
   ]
  },
  {
   "cell_type": "markdown",
   "id": "a88a07bf-754a-4149-b1c4-7dadb3e73c0f",
   "metadata": {},
   "source": [
    "Немного графиков"
   ]
  },
  {
   "cell_type": "code",
   "execution_count": 5,
   "id": "f30074b2-cc3d-4ae7-a259-946788c7ea89",
   "metadata": {},
   "outputs": [
    {
     "data": {
      "text/plain": [
       "<AxesSubplot:xlabel='diagnosis', ylabel='count'>"
      ]
     },
     "execution_count": 5,
     "metadata": {},
     "output_type": "execute_result"
    },
    {
     "data": {
      "image/png": "[encoded data removed]",
      "text/plain": [
       "<Figure size 432x288 with 1 Axes>"
      ]
     },
     "metadata": {
      "needs_background": "light"
     },
     "output_type": "display_data"
    }
   ],
   "source": [
    "sns.countplot(x=df['diagnosis'],palette='rocket')"
   ]
  },
  {
   "cell_type": "code",
   "execution_count": 6,
   "id": "5620493a-d4b5-4c70-8d0a-0e5c7c44637a",
   "metadata": {},
   "outputs": [
    {
     "data": {
      "text/plain": [
       "<AxesSubplot:xlabel='radius_mean', ylabel='texture_mean'>"
      ]
     },
     "execution_count": 6,
     "metadata": {},
     "output_type": "execute_result"
    },
    {
     "data": {
      "image/png": "[encoded data removed]",
      "text/plain": [
       "<Figure size 504x360 with 1 Axes>"
      ]
     },
     "metadata": {
      "needs_background": "light"
     },
     "output_type": "display_data"
    }
   ],
   "source": [
    "plt.figure(figsize=(7,5))\n",
    "sns.scatterplot(data=df,x='radius_mean',y='texture_mean',hue='diagnosis')"
   ]
  },
  {
   "cell_type": "code",
   "execution_count": 7,
   "id": "3cce0b71-a8bf-42fc-9cf1-909b34df371d",
   "metadata": {},
   "outputs": [
    {
     "data": {
      "text/plain": [
       "<AxesSubplot:title={'center':'CORRELATION HEATMAP'}>"
      ]
     },
     "execution_count": 7,
     "metadata": {},
     "output_type": "execute_result"
    },
    {
     "data": {
      "image/png": "[encoded data removed]",
      "text/plain": [
       "<Figure size 432x288 with 2 Axes>"
      ]
     },
     "metadata": {
      "needs_background": "light"
     },
     "output_type": "display_data"
    }
   ],
   "source": [
    "plt.title(\"CORRELATION HEATMAP\")\n",
    "sns.heatmap(df.corr())"
   ]
  },
  {
   "cell_type": "markdown",
   "id": "58a5584d-073c-490d-b766-6c1937874291",
   "metadata": {},
   "source": [
    "Преобразуем Malignant и Benign в числа"
   ]
  },
  {
   "cell_type": "code",
   "execution_count": 3,
   "id": "b46eab7c-d918-440c-a3f6-df28932d792f",
   "metadata": {},
   "outputs": [
    {
     "name": "stdout",
     "output_type": "stream",
     "text": [
      "B: B\n",
      "M: M\n",
      "B: 0.0\n",
      "M: 1.0\n"
     ]
    }
   ],
   "source": [
    "# M - 1\n",
    "# B - 0\n",
    "\n",
    "print(\"B:\", df.iloc[20]['diagnosis'])\n",
    "print(\"M:\", df.iloc[0]['diagnosis'])\n",
    "\n",
    "le = LabelEncoder()\n",
    "df['diagnosis'] = le.fit_transform(df['diagnosis'])\n",
    "\n",
    "print(\"B:\", df.iloc[20]['diagnosis'])\n",
    "print(\"M:\", df.iloc[0]['diagnosis'])"
   ]
  },
  {
   "cell_type": "code",
   "execution_count": 4,
   "id": "021db304-e563-45bf-bcdc-c5ef5887a631",
   "metadata": {},
   "outputs": [],
   "source": [
    "ss = StandardScaler()\n",
    "cols = list(df)[1:]\n",
    "df[cols] = ss.fit_transform(df[cols])"
   ]
  },
  {
   "cell_type": "markdown",
   "id": "bc9208a9-d33c-4e7e-bba2-4fb4591f7c5a",
   "metadata": {},
   "source": [
    "Разделяем выборку 9датасет) на 3 части"
   ]
  },
  {
   "cell_type": "code",
   "execution_count": 5,
   "id": "ddc921b3-513e-46be-81c1-de51fc81e698",
   "metadata": {},
   "outputs": [],
   "source": [
    "#street magic\n",
    "train, test, validate = np.split(df.sample(frac=1, random_state=42), \n",
    "                       [int(.6*len(df)), int(.8*len(df))])"
   ]
  },
  {
   "cell_type": "markdown",
   "id": "f07a6339-cf39-4988-9775-41faff7db984",
   "metadata": {},
   "source": [
    "Отделяем \"игреки\" от \"иксов\""
   ]
  },
  {
   "cell_type": "code",
   "execution_count": 6,
   "id": "0bbaf77c-47f0-4d0b-be35-8991b072e1d5",
   "metadata": {},
   "outputs": [],
   "source": [
    "separate = lambda x: (x['diagnosis'], x.drop(\"diagnosis\",axis=1))\n",
    "\n",
    "y_train, X_train = separate(train)\n",
    "y_validate, X_validate = separate(validate)\n",
    "y_test, X_test = separate(test)\n",
    "\n",
    "y_full, X_full = separate(df)"
   ]
  },
  {
   "cell_type": "markdown",
   "id": "fff35377-5538-4ac2-82fc-17c0ddea3045",
   "metadata": {},
   "source": [
    "Создаем, модель NN. Подбираем для нее параметры"
   ]
  },
  {
   "cell_type": "code",
   "execution_count": 7,
   "id": "e1a1396d-89ab-45e1-8823-777f9291d708",
   "metadata": {
    "tags": []
   },
   "outputs": [
    {
     "name": "stdout",
     "output_type": "stream",
     "text": [
      "Fitting 5 folds for each of 32 candidates, totalling 160 fits\n"
     ]
    },
    {
     "data": {
      "text/plain": [
       "GridSearchCV(estimator=RandomForestClassifier(random_state=0), n_jobs=-1,\n",
       "             param_grid={'max_depth': [2, 3, 4, 5, 6, 7, 8, 9],\n",
       "                         'n_estimators': [100, 200, 300, 400]},\n",
       "             verbose=3)"
      ]
     },
     "execution_count": 7,
     "metadata": {},
     "output_type": "execute_result"
    }
   ],
   "source": [
    "rfc = RandomForestClassifier(random_state=0)\n",
    "parameters = {\n",
    "    'n_estimators': list(range(100,500,100)),\n",
    "    'max_depth': list(range(2,10)),\n",
    "    \n",
    "}\n",
    "cvgrid = GridSearchCV(estimator=rfc, param_grid=parameters,n_jobs=-1,verbose=3) \n",
    "cvgrid.fit(X_train,y_train)"
   ]
  },
  {
   "cell_type": "markdown",
   "id": "a51f0689-9217-4b2e-8fb4-d030c95b379c",
   "metadata": {},
   "source": [
    "Выбираем модель с лучшим показателем"
   ]
  },
  {
   "cell_type": "code",
   "execution_count": 8,
   "id": "c6c77223-0b26-49ce-aa7a-c268a18aa2a6",
   "metadata": {},
   "outputs": [],
   "source": [
    "rfc_model = cvgrid.best_estimator_"
   ]
  },
  {
   "cell_type": "markdown",
   "id": "cb8e0623-e3fd-442d-88e4-4063c4789f92",
   "metadata": {},
   "source": [
    "Посмотрим процент \"точных\" предсказаний модели"
   ]
  },
  {
   "cell_type": "code",
   "execution_count": 9,
   "id": "7c1e0284-02ab-40c4-9acc-324bca00695e",
   "metadata": {},
   "outputs": [
    {
     "name": "stdout",
     "output_type": "stream",
     "text": [
      "Accuracy:\t93.86%\n",
      "MAE:\t\t6.14%\n"
     ]
    }
   ],
   "source": [
    "predicted = rfc_model.predict(X_validate)\n",
    "aim=list(y_validate)\n",
    "c=0\n",
    "for i in range(len(aim)):\n",
    "    if aim[i]==predicted[i]:\n",
    "        c+=1\n",
    "print(f\"Accuracy:\\t{round(100*c/len(aim), 2)}%\\nMAE:\\t\\t{round(100*mean_absolute_error(y_validate, predicted), 2)}%\")"
   ]
  },
  {
   "cell_type": "code",
   "execution_count": 12,
   "id": "0e668a3d-6679-4056-bfbd-8a5c1e92e7dd",
   "metadata": {},
   "outputs": [],
   "source": [
    "model_fin = rfc_model # final model\n",
    "with open(\"model.pckl\", 'wb') as file:\n",
    "    file.write(pickle.dumps(model_fin))"
   ]
  },
  {
   "cell_type": "code",
   "execution_count": null,
   "id": "723315fc-cd50-40c6-89f7-32d89886cdba",
   "metadata": {},
   "outputs": [],
   "source": []
  }
 ],
 "metadata": {
  "kernelspec": {
   "display_name": "Python 3",
   "language": "python",
   "name": "python3"
  },
  "language_info": {
   "codemirror_mode": {
    "name": "ipython",
    "version": 3
   },
   "file_extension": ".py",
   "mimetype": "text/x-python",
   "name": "python",
   "nbconvert_exporter": "python",
   "pygments_lexer": "ipython3",
   "version": "3.8.8"
  }
 },
 "nbformat": 4,
 "nbformat_minor": 5
}
